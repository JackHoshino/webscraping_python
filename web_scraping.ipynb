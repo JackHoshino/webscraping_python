{
 "cells": [
  {
   "cell_type": "code",
   "execution_count": 9,
   "metadata": {},
   "outputs": [],
   "source": [
    "import requests\n",
    "from bs4 import BeautifulSoup"
   ]
  },
  {
   "cell_type": "markdown",
   "metadata": {},
   "source": [
    "<b>Coletando as linhas com código e bairros de origem e destino de toda a cidade através do site meubuzu</b>"
   ]
  },
  {
   "cell_type": "code",
   "execution_count": 86,
   "metadata": {},
   "outputs": [],
   "source": [
    "link = 'https://www.meubuzu.com.br/linhas?page='\n",
    "i=1\n",
    "k=0\n",
    "forecast_itens = []\n",
    "while(i <= 25):\n",
    "    page = requests.get(link+ str(i))\n",
    "    i+=1\n",
    "    k=0\n",
    "    if(page.status_code):\n",
    "        soup = BeautifulSoup(page.content, 'html.parser')\n",
    "        while(k < 20):\n",
    "            temp = soup.find_all('span', class_ = 'visible-xs')[k].get_text()\n",
    "            forecast_itens.append(temp)\n",
    "            k+=1\n",
    "            if(i >= 25 and k >= 7):\n",
    "                k = 20\n",
    "                break"
   ]
  },
  {
   "cell_type": "code",
   "execution_count": 87,
   "metadata": {},
   "outputs": [
    {
     "data": {
      "text/plain": [
       "['(L708-00) CENTRO DE CONVENÇÕES - CAPELINHA',\n",
       " '(N050-00) ESTAÇÃO DA LAPA - SUBURBANA',\n",
       " '(N050-01) ESTAÇÃO DA LAPA - SUBURBANA',\n",
       " '(N051-00) LAPA - BARBALHO / LIBERDADE / FAZEMDA GRANDE / PIRAJÁ',\n",
       " '(N051-01) LAPA - BARBALHO / LIBERDADE / FAZEMDA GRANDE / PIRAJÁ',\n",
       " '(N052-00) LAPA - ÁGUAS CLARAS / CAJAZEIRAS 6,7,5,8 / CASTELO BRANCO',\n",
       " '(N052-01) LAPA - ÁGUAS CLARAS / CAJAZEIRAS 6,7,5,8 / CASTELO BRANCO',\n",
       " '(R026-00) REGULADOR ACESSO NORTE',\n",
       " '(S004-00) IGUATEMI - PRACA DA SÉ',\n",
       " '(S017-00) IMBUÍ - PRAÇA DA SÉ',\n",
       " '(S043-00) AEROPORTO - PRAÇA DA SÉ (VIA ORLA)',\n",
       " '(T001-00) REGULADORA - ESTACÃO DA LAPA',\n",
       " '(T010-00) REGULADORA - ESTAÇÃO MUSSURUNGA',\n",
       " '(T014-00) REGULADORA - ESTAÇÃO PIRAJÁ']"
      ]
     },
     "execution_count": 87,
     "metadata": {},
     "output_type": "execute_result"
    }
   ],
   "source": [
    "forecast_itens"
   ]
  },
  {
   "cell_type": "code",
   "execution_count": 88,
   "metadata": {},
   "outputs": [],
   "source": [
    "#dar tratamento, aos dados, separar códigos e bairros e relaciona-los"
   ]
  },
  {
   "cell_type": "markdown",
   "metadata": {},
   "source": [
    "<b>Fazer nova coleta no site meubuzu coletando todos os percursos por linha</b>"
   ]
  },
  {
   "cell_type": "code",
   "execution_count": null,
   "metadata": {},
   "outputs": [],
   "source": []
  }
 ],
 "metadata": {
  "kernelspec": {
   "display_name": "Python 3",
   "language": "python",
   "name": "python3"
  },
  "language_info": {
   "codemirror_mode": {
    "name": "ipython",
    "version": 3
   },
   "file_extension": ".py",
   "mimetype": "text/x-python",
   "name": "python",
   "nbconvert_exporter": "python",
   "pygments_lexer": "ipython3",
   "version": "3.7.3"
  }
 },
 "nbformat": 4,
 "nbformat_minor": 2
}
